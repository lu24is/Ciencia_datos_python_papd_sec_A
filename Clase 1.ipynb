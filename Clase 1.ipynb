{
 "cells": [
  {
   "cell_type": "markdown",
   "id": "8e679e00-0730-4fd4-bc2d-fc331093bdcf",
   "metadata": {},
   "source": [
    "# 1. Operaciones Básicas"
   ]
  },
  {
   "cell_type": "code",
   "execution_count": 7,
   "id": "d352f047-a4f4-4976-bfa1-763143053fa2",
   "metadata": {},
   "outputs": [
    {
     "data": {
      "text/plain": [
       "7"
      ]
     },
     "execution_count": 7,
     "metadata": {},
     "output_type": "execute_result"
    }
   ],
   "source": [
    "2 + 5"
   ]
  },
  {
   "cell_type": "code",
   "execution_count": 8,
   "id": "2b96b5b1-d72b-4f6d-839c-1a1374acc3f9",
   "metadata": {},
   "outputs": [
    {
     "data": {
      "text/plain": [
       "45"
      ]
     },
     "execution_count": 8,
     "metadata": {},
     "output_type": "execute_result"
    }
   ],
   "source": [
    "5*9"
   ]
  },
  {
   "cell_type": "code",
   "execution_count": 9,
   "id": "b2d9d477-e4fa-4c7f-9a65-b75cbd64c2a7",
   "metadata": {},
   "outputs": [
    {
     "data": {
      "text/plain": [
       "-4"
      ]
     },
     "execution_count": 9,
     "metadata": {},
     "output_type": "execute_result"
    }
   ],
   "source": [
    "5-9"
   ]
  },
  {
   "cell_type": "code",
   "execution_count": 10,
   "id": "56d8bdb2-5186-4523-a527-f727e739763c",
   "metadata": {},
   "outputs": [
    {
     "data": {
      "text/plain": [
       "1.75"
      ]
     },
     "execution_count": 10,
     "metadata": {},
     "output_type": "execute_result"
    }
   ],
   "source": [
    "7/4"
   ]
  },
  {
   "cell_type": "code",
   "execution_count": 11,
   "id": "037df97a-c069-4f64-8b95-ef8c462a184c",
   "metadata": {},
   "outputs": [
    {
     "data": {
      "text/plain": [
       "1"
      ]
     },
     "execution_count": 11,
     "metadata": {},
     "output_type": "execute_result"
    }
   ],
   "source": [
    "7//4"
   ]
  },
  {
   "cell_type": "code",
   "execution_count": 12,
   "id": "ba05f6d0-8965-42a4-84f9-696d217ba6e6",
   "metadata": {},
   "outputs": [
    {
     "data": {
      "text/plain": [
       "27"
      ]
     },
     "execution_count": 12,
     "metadata": {},
     "output_type": "execute_result"
    }
   ],
   "source": [
    "3**3"
   ]
  },
  {
   "cell_type": "code",
   "execution_count": 13,
   "id": "ffdd6524-0d06-4ebd-96a9-807e6f552002",
   "metadata": {},
   "outputs": [
    {
     "data": {
      "text/plain": [
       "1"
      ]
     },
     "execution_count": 13,
     "metadata": {},
     "output_type": "execute_result"
    }
   ],
   "source": [
    "5%2"
   ]
  },
  {
   "cell_type": "code",
   "execution_count": 14,
   "id": "c332b210-cc3e-47cf-ab57-e80b4094a6b9",
   "metadata": {},
   "outputs": [
    {
     "data": {
      "text/plain": [
       "9.0"
      ]
     },
     "execution_count": 14,
     "metadata": {},
     "output_type": "execute_result"
    }
   ],
   "source": [
    "import math\n",
    "math.sqrt(81) #calculamos la raiz cuadarada"
   ]
  },
  {
   "cell_type": "code",
   "execution_count": 15,
   "id": "3e81de26-6014-4649-a97d-661c2642d94a",
   "metadata": {},
   "outputs": [
    {
     "data": {
      "text/plain": [
       "3.0"
      ]
     },
     "execution_count": 15,
     "metadata": {},
     "output_type": "execute_result"
    }
   ],
   "source": [
    "math.pow(27, 1/3)"
   ]
  },
  {
   "cell_type": "markdown",
   "id": "ccd0ee86-8884-4384-9001-58fa187bc872",
   "metadata": {},
   "source": [
    "# 2. Despliegue en Pantalla"
   ]
  },
  {
   "cell_type": "code",
   "execution_count": 16,
   "id": "9031c6f6-dbcc-4099-9a19-3a0a6a8fe550",
   "metadata": {},
   "outputs": [
    {
     "name": "stdout",
     "output_type": "stream",
     "text": [
      "Hola a todos\n"
     ]
    }
   ],
   "source": [
    "print(\"Hola a todos\")"
   ]
  },
  {
   "cell_type": "code",
   "execution_count": 18,
   "id": "412e2f6d-085b-498d-b7e4-5d73f4c1fa6f",
   "metadata": {},
   "outputs": [
    {
     "name": "stdout",
     "output_type": "stream",
     "text": [
      "Hola 'a' todos\n"
     ]
    }
   ],
   "source": [
    "a = \"Hola 'a' todos\"\n",
    "print(a)"
   ]
  },
  {
   "cell_type": "code",
   "execution_count": 20,
   "id": "ef59a474-ae44-4ad2-89f9-898d17e8a566",
   "metadata": {},
   "outputs": [
    {
     "name": "stdout",
     "output_type": "stream",
     "text": [
      "Hola \"a\" todos\n"
     ]
    }
   ],
   "source": [
    "a = 'Hola \"a\" todos'\n",
    "print(a)"
   ]
  },
  {
   "cell_type": "code",
   "execution_count": 24,
   "id": "a9b60358-bfa8-43f2-87dc-956be1944a65",
   "metadata": {},
   "outputs": [
    {
     "name": "stdout",
     "output_type": "stream",
     "text": [
      "Hola añldjfñaljfds\n"
     ]
    }
   ],
   "source": [
    "b= 'Hola añldjfñaljfds'\n",
    "print(b)"
   ]
  },
  {
   "cell_type": "code",
   "execution_count": 23,
   "id": "490f0dba-9a5b-4df3-9970-0eaf91bdbd3e",
   "metadata": {},
   "outputs": [
    {
     "data": {
      "text/plain": [
       "'Hola - Hola - Hola - Hola - Hola - Hola - Hola - Hola - Hola - Hola - '"
      ]
     },
     "execution_count": 23,
     "metadata": {},
     "output_type": "execute_result"
    }
   ],
   "source": [
    "\"Hola - \"*10"
   ]
  },
  {
   "cell_type": "code",
   "execution_count": 26,
   "id": "32c9d409-0ecf-4bc1-b053-51f9f6fb9c97",
   "metadata": {},
   "outputs": [
    {
     "name": "stdout",
     "output_type": "stream",
     "text": [
      "El resultado es: cinco\n"
     ]
    }
   ],
   "source": [
    "print(\"El resultado es: \" + \"cinco\") #append, concatenate"
   ]
  },
  {
   "cell_type": "code",
   "execution_count": 31,
   "id": "615ddbce-97a1-4e1f-94d7-53b4eac497df",
   "metadata": {},
   "outputs": [
    {
     "name": "stdout",
     "output_type": "stream",
     "text": [
      "El resultado es: 5\n"
     ]
    }
   ],
   "source": [
    "a = 5\n",
    "print(\"El resultado es: \" + str(a)) #casteo de entero a string"
   ]
  },
  {
   "cell_type": "code",
   "execution_count": 32,
   "id": "2befa1ea-8dfb-4fe3-b105-304c7e41f098",
   "metadata": {},
   "outputs": [
    {
     "name": "stdout",
     "output_type": "stream",
     "text": [
      "El resultado es:  5\n"
     ]
    }
   ],
   "source": [
    "print(\"El resultado es: \", 5)"
   ]
  },
  {
   "cell_type": "code",
   "execution_count": 34,
   "id": "c0b40080-fa09-4aea-8516-2a94d004517d",
   "metadata": {},
   "outputs": [
    {
     "name": "stdout",
     "output_type": "stream",
     "text": [
      "La suma de 3 + 5 es 8\n"
     ]
    }
   ],
   "source": [
    "a = 3\n",
    "b = 5\n",
    "c = a+b\n",
    "salida = \"La suma de \" + str(a) + \" + \" + str(b) + \" es \" + str(c)\n",
    "print(salida)"
   ]
  },
  {
   "cell_type": "code",
   "execution_count": 35,
   "id": "c33478f3-849c-4836-9126-a33b323e7ca7",
   "metadata": {},
   "outputs": [
    {
     "name": "stdout",
     "output_type": "stream",
     "text": [
      "La suma 3 + 5 es 8\n"
     ]
    }
   ],
   "source": [
    "salida = \"La suma {} + {} es {}\".format(a, b, c)\n",
    "print(salida)"
   ]
  },
  {
   "cell_type": "code",
   "execution_count": 40,
   "id": "3c0f3f91-2766-428f-b7a7-879fb4b7fc94",
   "metadata": {},
   "outputs": [
    {
     "name": "stdout",
     "output_type": "stream",
     "text": [
      "La suma 3 + 5 es 8\n"
     ]
    }
   ],
   "source": [
    "salida = f\"La suma {a} + {b} es {c}\" #template literal.\n",
    "print(salida)"
   ]
  },
  {
   "cell_type": "markdown",
   "id": "7db01f0a-3cc3-4441-a0bb-f6a541fa0c6b",
   "metadata": {},
   "source": [
    "# 3. Manejo Básico de Strings"
   ]
  },
  {
   "cell_type": "code",
   "execution_count": 42,
   "id": "d9c8f3d9-8008-4272-a532-9e0dc9725e36",
   "metadata": {},
   "outputs": [
    {
     "data": {
      "text/plain": [
       "'S'"
      ]
     },
     "execution_count": 42,
     "metadata": {},
     "output_type": "execute_result"
    }
   ],
   "source": [
    "miStr = 'Esto es un String'\n",
    "miStr[11]"
   ]
  },
  {
   "cell_type": "code",
   "execution_count": 45,
   "id": "6bb1a1a9-44ce-4dc5-a48a-a03981e5cbac",
   "metadata": {},
   "outputs": [
    {
     "data": {
      "text/plain": [
       "' es un'"
      ]
     },
     "execution_count": 45,
     "metadata": {},
     "output_type": "execute_result"
    }
   ],
   "source": [
    "miStr[4:10] #substring. Nota: el indice superior no incluye el ultimo valor."
   ]
  },
  {
   "cell_type": "code",
   "execution_count": 46,
   "id": "f1a2b69a-daab-4689-95a9-671864e59774",
   "metadata": {},
   "outputs": [
    {
     "data": {
      "text/plain": [
       "'Esto'"
      ]
     },
     "execution_count": 46,
     "metadata": {},
     "output_type": "execute_result"
    }
   ],
   "source": [
    "miStr[:4]"
   ]
  },
  {
   "cell_type": "code",
   "execution_count": 49,
   "id": "611ce5d5-67f9-43e5-adee-c17edcefd2d1",
   "metadata": {},
   "outputs": [
    {
     "data": {
      "text/plain": [
       "'String'"
      ]
     },
     "execution_count": 49,
     "metadata": {},
     "output_type": "execute_result"
    }
   ],
   "source": [
    "miStr[11:]"
   ]
  },
  {
   "cell_type": "code",
   "execution_count": 50,
   "id": "71a8a013-1742-4ec7-9a04-644e98d05417",
   "metadata": {},
   "outputs": [
    {
     "data": {
      "text/plain": [
       "17"
      ]
     },
     "execution_count": 50,
     "metadata": {},
     "output_type": "execute_result"
    }
   ],
   "source": [
    "len(miStr)"
   ]
  },
  {
   "cell_type": "code",
   "execution_count": 52,
   "id": "f64164b5-d5d1-4588-bfaf-77d06efac5f1",
   "metadata": {},
   "outputs": [
    {
     "data": {
      "text/plain": [
       "'g'"
      ]
     },
     "execution_count": 52,
     "metadata": {},
     "output_type": "execute_result"
    }
   ],
   "source": [
    "miStr[-1]"
   ]
  },
  {
   "cell_type": "code",
   "execution_count": 55,
   "id": "5b3f674c-85a2-4bea-adf3-3444fc553536",
   "metadata": {},
   "outputs": [
    {
     "data": {
      "text/plain": [
       "'Esto es un String'"
      ]
     },
     "execution_count": 55,
     "metadata": {},
     "output_type": "execute_result"
    }
   ],
   "source": [
    "miStr[-17:]"
   ]
  },
  {
   "cell_type": "code",
   "execution_count": 57,
   "id": "b960090e-35ab-44b4-8bf0-7210017960dc",
   "metadata": {},
   "outputs": [
    {
     "data": {
      "text/plain": [
       "'Str'"
      ]
     },
     "execution_count": 57,
     "metadata": {},
     "output_type": "execute_result"
    }
   ],
   "source": [
    "miStr[-6:-3]"
   ]
  },
  {
   "cell_type": "code",
   "execution_count": 58,
   "id": "708c9ce4-4f6f-4289-aca9-06f617f0a8c4",
   "metadata": {},
   "outputs": [
    {
     "data": {
      "text/plain": [
       "'String'"
      ]
     },
     "execution_count": 58,
     "metadata": {},
     "output_type": "execute_result"
    }
   ],
   "source": [
    "miStr[-6:]"
   ]
  },
  {
   "cell_type": "markdown",
   "id": "910a255d-5729-4a9f-857f-c9e6377c2625",
   "metadata": {},
   "source": [
    "# 4. Manejo de números"
   ]
  },
  {
   "cell_type": "code",
   "execution_count": 59,
   "id": "c9c6580c-f96e-4153-9793-e20a4b16b402",
   "metadata": {},
   "outputs": [
    {
     "data": {
      "text/plain": [
       "int"
      ]
     },
     "execution_count": 59,
     "metadata": {},
     "output_type": "execute_result"
    }
   ],
   "source": [
    "entero = 5\n",
    "type(entero)"
   ]
  },
  {
   "cell_type": "code",
   "execution_count": 60,
   "id": "1ea8c09e-ff0a-4c1e-83ed-a79f4f539e89",
   "metadata": {},
   "outputs": [
    {
     "data": {
      "text/plain": [
       "float"
      ]
     },
     "execution_count": 60,
     "metadata": {},
     "output_type": "execute_result"
    }
   ],
   "source": [
    "numero = 3.14169264\n",
    "type(numero)"
   ]
  },
  {
   "cell_type": "code",
   "execution_count": 62,
   "id": "d7ae22a6-e30d-4a90-9672-c73363e2d6cd",
   "metadata": {},
   "outputs": [
    {
     "data": {
      "text/plain": [
       "int"
      ]
     },
     "execution_count": 62,
     "metadata": {},
     "output_type": "execute_result"
    }
   ],
   "source": [
    "type(int(numero))"
   ]
  },
  {
   "cell_type": "code",
   "execution_count": 63,
   "id": "ec5fde1a-c81d-481e-b0bc-8fb9b94e10b2",
   "metadata": {},
   "outputs": [
    {
     "data": {
      "text/plain": [
       "3"
      ]
     },
     "execution_count": 63,
     "metadata": {},
     "output_type": "execute_result"
    }
   ],
   "source": [
    "pi = 3.14159264\n",
    "int(pi)"
   ]
  },
  {
   "cell_type": "code",
   "execution_count": 65,
   "id": "05dbaab0-3525-4aec-889f-36889f7bfeb6",
   "metadata": {},
   "outputs": [
    {
     "data": {
      "text/plain": [
       "float"
      ]
     },
     "execution_count": 65,
     "metadata": {},
     "output_type": "execute_result"
    }
   ],
   "source": [
    "type(round(pi, 0))"
   ]
  },
  {
   "cell_type": "markdown",
   "id": "4df8e6ea-bee9-47f4-9586-f0dbfcbfa7f9",
   "metadata": {},
   "source": [
    "# 5. Booleanos"
   ]
  },
  {
   "cell_type": "code",
   "execution_count": 66,
   "id": "991215fc-3d73-4027-910b-d37792a68392",
   "metadata": {},
   "outputs": [],
   "source": [
    "a = True\n",
    "b = False"
   ]
  },
  {
   "cell_type": "code",
   "execution_count": 71,
   "id": "18dcf5eb-9b68-4613-b8fb-887d5be760d8",
   "metadata": {},
   "outputs": [
    {
     "data": {
      "text/plain": [
       "False"
      ]
     },
     "execution_count": 71,
     "metadata": {},
     "output_type": "execute_result"
    }
   ],
   "source": [
    "a & b #bitwise, AND"
   ]
  },
  {
   "cell_type": "code",
   "execution_count": 70,
   "id": "5feaab04-fd01-4d84-a673-ca9b8cdda4d6",
   "metadata": {},
   "outputs": [
    {
     "data": {
      "text/plain": [
       "True"
      ]
     },
     "execution_count": 70,
     "metadata": {},
     "output_type": "execute_result"
    }
   ],
   "source": [
    "a | b #OR"
   ]
  },
  {
   "cell_type": "code",
   "execution_count": 69,
   "id": "8646e2f4-fcc6-4de0-bd29-766466613f52",
   "metadata": {},
   "outputs": [
    {
     "data": {
      "text/plain": [
       "False"
      ]
     },
     "execution_count": 69,
     "metadata": {},
     "output_type": "execute_result"
    }
   ],
   "source": [
    "not(a)"
   ]
  },
  {
   "cell_type": "markdown",
   "id": "52735ec4-36d3-4a16-80c0-be103be98720",
   "metadata": {},
   "source": [
    "# 6. Condicionales"
   ]
  },
  {
   "cell_type": "code",
   "execution_count": 72,
   "id": "a6a49a9a-bcc3-4338-99c3-ae135a0fd8e7",
   "metadata": {},
   "outputs": [
    {
     "data": {
      "text/plain": [
       "True"
      ]
     },
     "execution_count": 72,
     "metadata": {},
     "output_type": "execute_result"
    }
   ],
   "source": [
    "42 == 42 #operacion de comparacion"
   ]
  },
  {
   "cell_type": "code",
   "execution_count": 73,
   "id": "700c01b6-d74b-4f45-80ff-5090f55c79f9",
   "metadata": {},
   "outputs": [
    {
     "data": {
      "text/plain": [
       "False"
      ]
     },
     "execution_count": 73,
     "metadata": {},
     "output_type": "execute_result"
    }
   ],
   "source": [
    "40 == 42"
   ]
  },
  {
   "cell_type": "code",
   "execution_count": 74,
   "id": "b340d4ae-1df8-4088-a043-679faa348141",
   "metadata": {},
   "outputs": [
    {
     "data": {
      "text/plain": [
       "True"
      ]
     },
     "execution_count": 74,
     "metadata": {},
     "output_type": "execute_result"
    }
   ],
   "source": [
    "'Hola' == 'Hola'"
   ]
  },
  {
   "cell_type": "code",
   "execution_count": 75,
   "id": "dc96794a-d132-433b-9484-8233e355927b",
   "metadata": {},
   "outputs": [
    {
     "data": {
      "text/plain": [
       "False"
      ]
     },
     "execution_count": 75,
     "metadata": {},
     "output_type": "execute_result"
    }
   ],
   "source": [
    "'Hola' == 'hola'"
   ]
  },
  {
   "cell_type": "code",
   "execution_count": 76,
   "id": "ee48d855-c099-4f83-8e71-cd9c77e1aa9a",
   "metadata": {},
   "outputs": [
    {
     "data": {
      "text/plain": [
       "True"
      ]
     },
     "execution_count": 76,
     "metadata": {},
     "output_type": "execute_result"
    }
   ],
   "source": [
    "'Hola' != 'hola'"
   ]
  },
  {
   "cell_type": "code",
   "execution_count": 78,
   "id": "05505a64-6bad-4c74-b744-033d0c543882",
   "metadata": {},
   "outputs": [
    {
     "name": "stdin",
     "output_type": "stream",
     "text": [
      "Ingrese un numero:  10\n"
     ]
    },
    {
     "data": {
      "text/plain": [
       "int"
      ]
     },
     "execution_count": 78,
     "metadata": {},
     "output_type": "execute_result"
    }
   ],
   "source": [
    "numero = int(input(\"Ingrese un numero: \"))\n",
    "type(numero)"
   ]
  },
  {
   "cell_type": "code",
   "execution_count": 82,
   "id": "3c603ced-2d8b-4aa1-998c-f2fb6f37d6ee",
   "metadata": {},
   "outputs": [
    {
     "name": "stdin",
     "output_type": "stream",
     "text": [
      "Ingrese un numero:  0\n"
     ]
    },
    {
     "name": "stdout",
     "output_type": "stream",
     "text": [
      "El valor es mayor que cero\n"
     ]
    }
   ],
   "source": [
    "numero = int(input(\"Ingrese un numero: \"))\n",
    "\n",
    "if(numero >= 0):\n",
    "    print(\"El valor es mayor que cero\")\n",
    "else:\n",
    "    print(\"El valor es menor que cero\")"
   ]
  },
  {
   "cell_type": "code",
   "execution_count": 85,
   "id": "22597bf0-c671-4bbb-8cac-4813ccbef4a3",
   "metadata": {},
   "outputs": [
    {
     "name": "stdin",
     "output_type": "stream",
     "text": [
      "Ingrese un numero de día:  10\n"
     ]
    },
    {
     "name": "stdout",
     "output_type": "stream",
     "text": [
      "El valor ingresado no es válido.\n"
     ]
    }
   ],
   "source": [
    "dia = int(input(\"Ingrese un numero de día: \"))\n",
    "if(dia == 1):\n",
    "    dia_str = \"Lunes\"\n",
    "elif(dia == 2):\n",
    "    dia_str = \"Martes\"\n",
    "elif(dia == 3):\n",
    "    dia_str = \"Miercoles\"\n",
    "elif(dia == 4):\n",
    "    dia_str = \"Jueves\"\n",
    "elif(dia == 5):\n",
    "    dia_str = \"Viernes\"\n",
    "elif(dia == 6):\n",
    "    dia_str = \"Sabado\"\n",
    "else:\n",
    "    dia_str = \"Domingo\"\n",
    "\n",
    "print(dia_str)"
   ]
  },
  {
   "cell_type": "code",
   "execution_count": 88,
   "id": "b8bc8137-3567-4e9b-93a3-38943912fe6a",
   "metadata": {},
   "outputs": [
    {
     "name": "stdin",
     "output_type": "stream",
     "text": [
      "Ingrese un numero de día:  2\n"
     ]
    },
    {
     "name": "stdout",
     "output_type": "stream",
     "text": [
      "Martes\n"
     ]
    }
   ],
   "source": [
    "dia = int(input(\"Ingrese un numero de día: \"))\n",
    "if((dia >= 1) and (dia<=7)):\n",
    "    if(dia == 1):\n",
    "        dia_str = \"Lunes\"\n",
    "    elif(dia == 2):\n",
    "        dia_str = \"Martes\"\n",
    "    elif(dia == 3):\n",
    "        dia_str = \"Miercoles\"\n",
    "    elif(dia == 4):\n",
    "        dia_str = \"Jueves\"\n",
    "    elif(dia == 5):\n",
    "        dia_str = \"Viernes\"\n",
    "    else:\n",
    "        dia_str = \"Es fin de semana.\"\n",
    "else:\n",
    "    dia_str = \"El valor ingresado no es válido.\"\n",
    "\n",
    "print(dia_str)"
   ]
  },
  {
   "cell_type": "code",
   "execution_count": null,
   "id": "2db71f75-a653-42df-9e1d-8bbe530fbb64",
   "metadata": {},
   "outputs": [],
   "source": []
  }
 ],
 "metadata": {
  "kernelspec": {
   "display_name": "Python 3 (ipykernel)",
   "language": "python",
   "name": "python3"
  },
  "language_info": {
   "codemirror_mode": {
    "name": "ipython",
    "version": 3
   },
   "file_extension": ".py",
   "mimetype": "text/x-python",
   "name": "python",
   "nbconvert_exporter": "python",
   "pygments_lexer": "ipython3",
   "version": "3.11.7"
  }
 },
 "nbformat": 4,
 "nbformat_minor": 5
}
