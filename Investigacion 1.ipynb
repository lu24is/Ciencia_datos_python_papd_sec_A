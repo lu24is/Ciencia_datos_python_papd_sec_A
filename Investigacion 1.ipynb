{
 "cells": [
  {
   "cell_type": "markdown",
   "id": "0da51162-463e-47ad-b59b-7c93458fb171",
   "metadata": {},
   "source": [
    "# Investigación no. 1: Git y GitHub"
   ]
  },
  {
   "cell_type": "markdown",
   "id": "747430f6-06c4-4ce8-9e98-0e8a8194ea5b",
   "metadata": {},
   "source": [
    "# 1. Git"
   ]
  },
  {
   "cell_type": "markdown",
   "id": "22471434-38b5-4123-9742-1e50381bbce8",
   "metadata": {},
   "source": [
    "## 1.1 Definición \n",
    "Creado por Linux Torvalds, creador de Linux, Git es un sistema que se utiliza para el control de versiones de un proyecto de software, en donde se trabaja en un proyecto localmente, y luego se sincroniza con el repositorio en el cual se están almacenando las versiones.\n",
    "\n",
    "## 1.2 Control de versiones\n",
    "El control de versiones, o VCS es un programa que se utiliza para realizar un seguimiento de las versiones que se realizan. Esto es útil para la realización de proyectos con equipos de trabajo, trabajando al mismo tiempo, sin que esto afecte el trabajo de los demas. Ademas, ayuda a que se puedan recuperar facilmente versiones anteriores o individuales de los proyectos.\n",
    "\n",
    "En resumen, lo que se puede hacer con este contorl de versiones es:\n",
    "- Ver todos los cambios realizados en el proyecto, cuándo se hicieron los cambios y quién los efectuó.\n",
    "- Incluir un mensaje con cada cambio para explicar los motivos.\n",
    "- Recuperar versiones anteriores del proyecto completo o de archivos individuales.\n",
    "- Crear ramas, donde los cambios se pueden hacer experimentalmente. \n",
    "- Adjuntar una etiqueta a una versión, por ejemplo, para marcar una nueva versión.\n",
    "    \n",
    "## 1.3 Términos más utilizados\n",
    "1. Arbol de trabajo: Conjunto de directorios y archivos anidados que contienen el proyecto.\n",
    "2. Repositorio:Lugar donde se mantiene el directorio y los metadatos del proyecto.\n",
    "3. Hash: Número generado por una función que repreenta el contenido de un archivo.\n",
    "4. Objeto: Se refiere al contenido de un Git, pueden ser cuatro tipos: blob, árbol, confirmación y etiqueta.\n",
    "5. Confirmación: Crea un objeto de confirmación y significa que se confirman los cambios realizados.\n",
    "6. Rama: Serie con nombre de vinculaciones combinadas. Utiles para trabajar en equipos en ramas separadas y luego unirlo todo.\n",
    "7. Remoto: Referencia con nombre a otro repositorio.\n",
    "8. Comandos, subcomandos y opciones: operaciones realizadas por Git.\n",
    "  \n"
   ]
  },
  {
   "cell_type": "markdown",
   "id": "d70558a3-0a37-4863-8a2a-a432b1575589",
   "metadata": {},
   "source": [
    "# 2. GitHub"
   ]
  },
  {
   "cell_type": "markdown",
   "id": "029aba73-ce0f-4950-98df-5a68d6ea9e5b",
   "metadata": {},
   "source": [
    "## 2.1 Definición\n",
    "Plataforma basada en la nube que proporciona a los usuarios un sistema de control de versiones distribuido, simplificando el proceso de colaborar en proyectos a travez de una sitio web, con su herramienta de linea de comandos y un flujo global.\n",
    "\n",
    "Algunas de las ventajas que tiene GitHub son:\n",
    "1. Colaboración: Las herramientas con las que se cuenta, permiten una colaboración sin esfuerzo.\n",
    "2. Productividad: Capacidad de establecer tareas y olvidarlas, cuidar de la administración rutinaria y acelerar el trabajo diario.\n",
    "3. Seguridad: Caracteristicas de seguridad nativas y de primera entidad que minimizan el riesgo.\n",
    "4. Escala: Tiene la escala necesaria para ofrecer perspectivas que cambian el sector, capacidades de colaboración para una eficiencia transformadora.\n",
    "\n",
    "## 2.2 Repositorios\n",
    "### 2.2.1 Definición\n",
    "Es el lugar en el que se encuentran todos los archivos del proyecto, y el historial de revisiones realizadas. Se utiliza para administrar el trabajo, realizar un seguimiento de los cambios, almacenar el historial de revisiones y trabajar con otras personas. \n",
    "\n",
    "### 2.2.2 Gists\n",
    "Son una forma simplificada de compartir código con otras personas y son repositorios Git que se pueden bifurcar y clonar. Pueden ser públicos o secretos. Los públicos pueden ser buscados y se pueden consultar a medida que se crean, mientras que los secretos no se pueden encontrar ni accesar, a menos que se cuente con el link.\n",
    "\n",
    "### 2.2.3 Wikis\n",
    "Es una sección especial para hospedar documentación. Se puede utilizar para compartir documentación del proceso de la creación del proyecto o alguna información relevante al mismo. \n",
    "\n",
    "## 2.3 Componentes del flujo de GitHub\n",
    "1. Ramas: Es en donde podemos realizar cambios sin que afecte la totalidad del proyecto. Es particularmente útil para hacer pruebas y poder corregir si algo no funciona adecuadamente.\n",
    "2. Confirmaciones: Es un cambio en uno o varios archivos de una rama. A esta se le asigna un identificador único, y contiene información clave para saber en qué momento se hizo y quien lo hizo, con ello se puede realizar una adecuada auditoria o seguimiento de cada cambio.\n",
    "3. Solicitudes de incorporación de cambios: Esta es una solicitud que se realiza para indicar que las confirmaciones están listas para combinarse en otra. Se hace la solicitud de incorporación y pasa a una fase de revisión, en la cual se hacen las pruebas y revisiones de forma exahustiva, a fin de encontrar fallos y corregirlos. Una vez aprobado, esta rama se incorpora con la rama base.\n",
    "4. Flujo de Github: El flujo es el siguiente:\n",
    "    1. Se crea una rama para que los cambios, caracteristicas y revisiones no afecten la rama principal.\n",
    "    2. Realizar los cambios necesarios para que sea valido en un entorno de producción.\n",
    "    3. Crar la solicitud de incorporación de cambios para pedir comentarios a los colaboradores.\n",
    "    4. Revisión e implementación de los comentarios de los colaboradores.\n",
    "    5. Aprobación de la solicitud de incorporación y combinación con la rama principal.\n",
    "    6. Eliminar la rama creada para los cambios, indicando que se ha completado el trabajo. Esto es útil para evitar que se utilicen implementaciones obsoletas.\n",
    "    \n",
    "## 2.4 Incidencias\n",
    "Son creadas para poder realizar un seguimiento a tareas, comentarios, errores o tareas para trabajar en GitHub, y se puede crear a partir de repositorios, un elemento de una lista de tareas, nota de un proyecto, comentario de una incidencia o solicitud de incorporación de cambios, una linea de codigo especifica o una consulta de una URL.\n",
    "\n",
    "## 2.5 Debates\n",
    "Son conversaciones accesibles al público y no están relacionadas con el código. \n",
    "    "
   ]
  }
 ],
 "metadata": {
  "kernelspec": {
   "display_name": "Python 3 (ipykernel)",
   "language": "python",
   "name": "python3"
  },
  "language_info": {
   "codemirror_mode": {
    "name": "ipython",
    "version": 3
   },
   "file_extension": ".py",
   "mimetype": "text/x-python",
   "name": "python",
   "nbconvert_exporter": "python",
   "pygments_lexer": "ipython3",
   "version": "3.11.5"
  }
 },
 "nbformat": 4,
 "nbformat_minor": 5
}
